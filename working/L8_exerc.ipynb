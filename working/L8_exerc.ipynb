{
 "cells": [
  {
   "cell_type": "markdown",
   "id": "c4a4c403-635d-4f6b-a513-e2ff4a48e927",
   "metadata": {},
   "source": [
    "## Q1: I love pip \n",
    "\n",
    "- Take a piece of python code you wrote (for instance pick one of the exercises you've done for this class). \n",
    "- Turn it into a module\n",
    "- Install it locally\n",
    "- Deploy on pypi (only using the test-pypi server!)\n"
   ]
  },
  {
   "cell_type": "markdown",
   "id": "7bdb5729-3623-40e4-bb8d-ccfe757b0a10",
   "metadata": {
    "tags": []
   },
   "source": [
    "##### Q9 Poker odds from Lesson1"
   ]
  },
  {
   "cell_type": "code",
   "execution_count": 1,
   "id": "ceb84485-d89b-4787-8d37-f1b24251d68d",
   "metadata": {
    "tags": []
   },
   "outputs": [
    {
     "name": "stdout",
     "output_type": "stream",
     "text": [
      "Looking in indexes: https://test.pypi.org/simple/\n",
      "Collecting DeckModule\n",
      "  Downloading https://test-files.pythonhosted.org/packages/39/0a/f07ff639639920a066788d87d5e21a3c282756ede7c82cac8e9d209c3aee/DeckModule-0.1.tar.gz (1.6 kB)\n",
      "  Preparing metadata (setup.py): started\n",
      "  Preparing metadata (setup.py): finished with status 'done'\n",
      "Building wheels for collected packages: DeckModule\n",
      "  Building wheel for DeckModule (setup.py): started\n",
      "  Building wheel for DeckModule (setup.py): finished with status 'done'\n",
      "  Created wheel for DeckModule: filename=DeckModule-0.1-py3-none-any.whl size=2057 sha256=a7bb057365e959d88514bba588051f5d3318864cdaa9646b5096354ab393d531\n",
      "  Stored in directory: c:\\users\\riccardo\\appdata\\local\\pip\\cache\\wheels\\88\\2e\\51\\bdfc2e0daa2bb4eefbf689704a87c3cc181281ea09fc97b6c7\n",
      "Successfully built DeckModule\n",
      "Installing collected packages: DeckModule\n",
      "Successfully installed DeckModule-0.1\n"
     ]
    },
    {
     "name": "stderr",
     "output_type": "stream",
     "text": [
      "DEPRECATION: Loading egg at c:\\users\\riccardo\\anaconda3\\lib\\site-packages\\fonttools-4.53.1-py3.11.egg is deprecated. pip 23.3 will enforce this behaviour change. A possible replacement is to use pip for package installation..\n",
      "DEPRECATION: Loading egg at c:\\users\\riccardo\\anaconda3\\lib\\site-packages\\mymodule-0.0.1-py3.11.egg is deprecated. pip 23.3 will enforce this behaviour change. A possible replacement is to use pip for package installation..\n"
     ]
    }
   ],
   "source": [
    "#see deckmodule folder for local installation\n",
    "!pip install -i https://test.pypi.org/simple/  DeckModule"
   ]
  },
  {
   "cell_type": "code",
   "execution_count": 3,
   "id": "d39f32da-2f70-4131-9935-1df4bc7bd053",
   "metadata": {
    "tags": []
   },
   "outputs": [
    {
     "name": "stdout",
     "output_type": "stream",
     "text": [
      "0.02075\n"
     ]
    }
   ],
   "source": [
    "import deckmodule as dck\n",
    "\n",
    "n = 100000\n",
    "handsize= 5\n",
    "counts = 0\n",
    "\n",
    "for l in range(1,n):\n",
    "    mydeck = dck.Deck()\n",
    "    mydeck.shuffle()\n",
    "    hand = mydeck.get_cards(handsize)\n",
    "    sort = sorted(hand)\n",
    "    for i in range(len(hand)-2):\n",
    "        if sort[i].rank==sort[i+1].rank==sort[i+2].rank: #find 3 cards with the same rank\n",
    "            if len(set([c.rank for c in hand]))==3:  #Must have three ranks in the whole hand\n",
    "                counts+=1\n",
    "                break\n",
    "print(counts/n)"
   ]
  },
  {
   "cell_type": "code",
   "execution_count": null,
   "id": "04c0964a-a129-4d0d-a71f-e2773052246e",
   "metadata": {},
   "outputs": [],
   "source": []
  },
  {
   "cell_type": "code",
   "execution_count": null,
   "id": "40897648-2ade-4131-8288-4c126f47b3e3",
   "metadata": {},
   "outputs": [],
   "source": []
  },
  {
   "cell_type": "code",
   "execution_count": null,
   "id": "89b695ff-7647-4bfc-8665-218c91f52302",
   "metadata": {},
   "outputs": [],
   "source": []
  },
  {
   "cell_type": "code",
   "execution_count": null,
   "id": "93601bdc-a6fc-481a-9f9e-4b53d79dd9a4",
   "metadata": {},
   "outputs": [],
   "source": []
  }
 ],
 "metadata": {
  "kernelspec": {
   "display_name": "Python 3 (ipykernel)",
   "language": "python",
   "name": "python3"
  },
  "language_info": {
   "codemirror_mode": {
    "name": "ipython",
    "version": 3
   },
   "file_extension": ".py",
   "mimetype": "text/x-python",
   "name": "python",
   "nbconvert_exporter": "python",
   "pygments_lexer": "ipython3",
   "version": "3.11.5"
  }
 },
 "nbformat": 4,
 "nbformat_minor": 5
}
