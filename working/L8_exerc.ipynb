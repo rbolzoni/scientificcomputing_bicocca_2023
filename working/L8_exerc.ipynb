{
 "cells": [
  {
   "cell_type": "markdown",
   "id": "2e3e4fec-2286-4a0a-9af4-55ab2a099920",
   "metadata": {},
   "source": [
    "## Q1/Q2: Pip and Pytest\n",
    "\n",
    "#### Deploying on Pypi\n",
    "\n",
    "I created a module that included the card and deck classes from Lesson 1. The module can be installed from test pypi with the following command (the folder with code and packaging files can be found the working directory). The same exercise of Lesson 1 is repeated here with the imported module"
   ]
  },
  {
   "cell_type": "code",
   "execution_count": 4,
   "id": "9780ba63-cd14-4f58-8de8-0e6941905376",
   "metadata": {
    "tags": []
   },
   "outputs": [
    {
     "name": "stdout",
     "output_type": "stream",
     "text": [
      "Looking in indexes: https://test.pypi.org/simple/\n",
      "Collecting DeckModule\n",
      "  Using cached DeckModule-0.1-py3-none-any.whl\n",
      "Installing collected packages: DeckModule\n",
      "Successfully installed DeckModule-0.1\n"
     ]
    },
    {
     "name": "stderr",
     "output_type": "stream",
     "text": [
      "DEPRECATION: Loading egg at c:\\users\\riccardo\\anaconda3\\lib\\site-packages\\fonttools-4.53.1-py3.11.egg is deprecated. pip 24.3 will enforce this behaviour change. A possible replacement is to use pip for package installation. Discussion can be found at https://github.com/pypa/pip/issues/12330\n",
      "DEPRECATION: Loading egg at c:\\users\\riccardo\\anaconda3\\lib\\site-packages\\mymodule-0.0.1-py3.11.egg is deprecated. pip 24.3 will enforce this behaviour change. A possible replacement is to use pip for package installation. Discussion can be found at https://github.com/pypa/pip/issues/12330\n"
     ]
    }
   ],
   "source": [
    "!pip install -i https://test.pypi.org/simple/  DeckModule"
   ]
  },
  {
   "cell_type": "code",
   "execution_count": 5,
   "id": "a54a3732-7f7b-48e3-b023-0b02e2a6c9b0",
   "metadata": {
    "tags": []
   },
   "outputs": [
    {
     "name": "stdout",
     "output_type": "stream",
     "text": [
      "\n",
      " probability of a 3-of-a-kind: 0.02132 (vs expected value: 0.021)\n"
     ]
    }
   ],
   "source": [
    "import deckmodule as dck\n",
    "\n",
    "n = 100000\n",
    "handsize= 5\n",
    "counts = 0\n",
    "\n",
    "for l in range(1,n):\n",
    "    mydeck = dck.Deck()\n",
    "    mydeck.shuffle()\n",
    "    hand = mydeck.get_cards(handsize)\n",
    "    sort = sorted(hand)\n",
    "    for i in range(len(hand)-2):\n",
    "        if sort[i].rank==sort[i+1].rank==sort[i+2].rank: #find 3 cards with the same rank\n",
    "            if len(set([c.rank for c in hand]))==3:  #Must have three ranks in the whole hand\n",
    "                counts+=1\n",
    "                break\n",
    "print('\\n probability of a 3-of-a-kind: ' +str(counts/n)+' (vs expected value: 0.021)')"
   ]
  },
  {
   "cell_type": "markdown",
   "id": "9a73ab5e-c927-49d3-9944-371b6d4d79bd",
   "metadata": {},
   "source": [
    "#### Implementing pytest at every commit\n",
    "\n",
    "The module is also deployed on github as a separate folder with a dedicated version control at https://github.com/rbolzoni/DeckRepo. There i included a code_test.yml with the following code to run the test file on every commit:\n",
    "\n",
    "The test_desk.py contain some simple tests on the Card and Deck class.\n",
    "\n",
    "In settings/ruleset in the repo i required that the status check from running the test_deck.py file is positive before every commit. Indeed, changing the test file introducing a false statement (maximum suit =3) returns the following message:"
   ]
  },
  {
   "cell_type": "markdown",
   "id": "e73dafcd-f11b-459d-9eda-0c3edaba05d4",
   "metadata": {
    "tags": []
   },
   "source": [
    "***\n",
    "...\n",
    "\n",
    "error: GH013: Repository rule violations found for refs/heads/main.\n",
    "\n",
    "remote: Review all repository rules at http://github.com/rbolzoni/DeckRepo/rules?ref=refs%2Fheads%2Fmain\n",
    "\n",
    "remote:\n",
    "\n",
    "remote: - Required status check \"Code_test / Explore-GitHub-Actions (push)\" is expected.\n",
    "\n",
    "remote:\n",
    "\n",
    "To github.com:rbolzoni/Deckmodule.git\n",
    "\n",
    " ! [remote rejected] main -> main (push declined due to repository rule violations)\n",
    " \n",
    "error: failed to push some refs to 'github.com:rbolzoni/Deckmodule.git'\n",
    "***"
   ]
  },
  {
   "cell_type": "code",
   "execution_count": null,
   "id": "7fac960c-af1c-4657-9e7c-d73b00137362",
   "metadata": {},
   "outputs": [],
   "source": []
  }
 ],
 "metadata": {
  "kernelspec": {
   "display_name": "Python 3 (ipykernel)",
   "language": "python",
   "name": "python3"
  },
  "language_info": {
   "codemirror_mode": {
    "name": "ipython",
    "version": 3
   },
   "file_extension": ".py",
   "mimetype": "text/x-python",
   "name": "python",
   "nbconvert_exporter": "python",
   "pygments_lexer": "ipython3",
   "version": "3.11.5"
  }
 },
 "nbformat": 4,
 "nbformat_minor": 5
}
