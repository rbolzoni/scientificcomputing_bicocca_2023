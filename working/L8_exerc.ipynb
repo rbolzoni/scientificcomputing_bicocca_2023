{
 "cells": [
  {
   "cell_type": "markdown",
   "id": "c4a4c403-635d-4f6b-a513-e2ff4a48e927",
   "metadata": {},
   "source": [
    "## Q1/Q2: Pip and Pytest \n",
    "\n",
    "### Deploying on Pypi\n",
    "\n",
    "I created a module that included the card and deck classes from Lesson 1. The module can be installed from test pypi with the following command (the folder with code and packaging files can be found the working directory). The same exercise of Lesson 1 is repeated here with the imported module\n"
   ]
  },
  {
   "cell_type": "code",
   "execution_count": 1,
   "id": "ceb84485-d89b-4787-8d37-f1b24251d68d",
   "metadata": {
    "tags": []
   },
   "outputs": [
    {
     "name": "stdout",
     "output_type": "stream",
     "text": [
      "Looking in indexes: https://test.pypi.org/simple/\n",
      "Collecting DeckModule\n",
      "  Downloading https://test-files.pythonhosted.org/packages/39/0a/f07ff639639920a066788d87d5e21a3c282756ede7c82cac8e9d209c3aee/DeckModule-0.1.tar.gz (1.6 kB)\n",
      "  Preparing metadata (setup.py): started\n",
      "  Preparing metadata (setup.py): finished with status 'done'\n",
      "Building wheels for collected packages: DeckModule\n",
      "  Building wheel for DeckModule (setup.py): started\n",
      "  Building wheel for DeckModule (setup.py): finished with status 'done'\n",
      "  Created wheel for DeckModule: filename=DeckModule-0.1-py3-none-any.whl size=2057 sha256=a7bb057365e959d88514bba588051f5d3318864cdaa9646b5096354ab393d531\n",
      "  Stored in directory: c:\\users\\riccardo\\appdata\\local\\pip\\cache\\wheels\\88\\2e\\51\\bdfc2e0daa2bb4eefbf689704a87c3cc181281ea09fc97b6c7\n",
      "Successfully built DeckModule\n",
      "Installing collected packages: DeckModule\n",
      "Successfully installed DeckModule-0.1\n"
     ]
    },
    {
     "name": "stderr",
     "output_type": "stream",
     "text": [
      "DEPRECATION: Loading egg at c:\\users\\riccardo\\anaconda3\\lib\\site-packages\\fonttools-4.53.1-py3.11.egg is deprecated. pip 23.3 will enforce this behaviour change. A possible replacement is to use pip for package installation..\n",
      "DEPRECATION: Loading egg at c:\\users\\riccardo\\anaconda3\\lib\\site-packages\\mymodule-0.0.1-py3.11.egg is deprecated. pip 23.3 will enforce this behaviour change. A possible replacement is to use pip for package installation..\n"
     ]
    }
   ],
   "source": [
    "!pip install -i https://test.pypi.org/simple/  DeckModule"
   ]
  },
  {
   "cell_type": "code",
   "execution_count": 6,
   "id": "d39f32da-2f70-4131-9935-1df4bc7bd053",
   "metadata": {
    "tags": []
   },
   "outputs": [
    {
     "name": "stdout",
     "output_type": "stream",
     "text": [
      "\n",
      " probability of a 3-of-a-kind: 0.02127 (vs expected value: 0.021)\n"
     ]
    }
   ],
   "source": [
    "import deckmodule as dck\n",
    "\n",
    "n = 100000\n",
    "handsize= 5\n",
    "counts = 0\n",
    "\n",
    "for l in range(1,n):\n",
    "    mydeck = dck.Deck()\n",
    "    mydeck.shuffle()\n",
    "    hand = mydeck.get_cards(handsize)\n",
    "    sort = sorted(hand)\n",
    "    for i in range(len(hand)-2):\n",
    "        if sort[i].rank==sort[i+1].rank==sort[i+2].rank: #find 3 cards with the same rank\n",
    "            if len(set([c.rank for c in hand]))==3:  #Must have three ranks in the whole hand\n",
    "                counts+=1\n",
    "                break\n",
    "print('\\n probability of a 3-of-a-kind: ' +str(counts/n)+' (vs expected value: 0.021)')"
   ]
  },
  {
   "cell_type": "markdown",
   "id": "3f9e33df-2d6f-49e7-9184-ab860f05521f",
   "metadata": {},
   "source": [
    "### Implementing pytest at every commit"
   ]
  },
  {
   "cell_type": "markdown",
   "id": "bbf3524a-d53f-4a3f-a574-28d61d41e22b",
   "metadata": {},
   "source": [
    "The module is also deployed on github as a separate folder with a dedicated version control at https://github.com/rbolzoni/DeckRepo. There i included a code_test.yml with the following code to run the test file on every commit:"
   ]
  },
  {
   "cell_type": "raw",
   "id": "2aefa2f7-aba6-462c-96b1-ed3272fff72e",
   "metadata": {
    "tags": []
   },
   "source": [
    "name: Code_test\n",
    "run-name: ${{ github.actor }} is testing the code\n",
    "on: [push]\n",
    "jobs:\n",
    "  Explore-GitHub-Actions:\n",
    "    runs-on: ubuntu-latest\n",
    "    steps:\n",
    "        - uses: actions/checkout@v4\n",
    "        - name: Set up Python\n",
    "          uses: actions/setup-python@v5\n",
    "          with:\n",
    "            python-version: '3.11'\n",
    "            \n",
    "        - name: Install dependencies\n",
    "          run: |\n",
    "            pip install --upgrade pip setuptools\n",
    "            \n",
    "        - name: Install pytest\n",
    "          run: |\n",
    "            pip install pytest\n",
    "            \n",
    "        - name: Run pytest\n",
    "          run: |\n",
    "            pytest -v deckmodule/"
   ]
  },
  {
   "cell_type": "markdown",
   "id": "778c9137-d0bc-419c-af4b-8e81667cad00",
   "metadata": {},
   "source": [
    "The test_desk.py contain some simple tests on the Card and Deck class."
   ]
  },
  {
   "cell_type": "raw",
   "id": "adc2f41a-9fed-44b0-b09f-b119647f3384",
   "metadata": {},
   "source": [
    "import deckmodule as dck\n",
    "\n",
    "\n",
    "def test_card():\n",
    "    a=dck.Card(2, 5)\n",
    "    assert a.value()==58\n",
    "    \n",
    "def test_eq():\n",
    "    a=dck.Card(1, 13)\n",
    "    b=dck.Card(1, 13)\n",
    "    assert a==b\n",
    "    \n",
    "def test_decksize():\n",
    "    a=dck.Deck()\n",
    "    assert(len(a.cards)==52)\n",
    "    \n",
    "def test_deck():\n",
    "    a=dck.Deck()\n",
    "    assert(max(b.suit for b in a.cards)==4) #max suit should be 4\n",
    "    assert(max(b.rank for b in a.cards)==14) #max rank should be 14"
   ]
  },
  {
   "cell_type": "markdown",
   "id": "9fbb41d2-6c85-4a04-a280-8ee3e14c15aa",
   "metadata": {},
   "source": [
    "In settings/ruleset in the repo i required that the status check from running the test_deck.py file is positive before every commit. Indee, changing the test file introducing a false statement (maximum suit =3) returns the following message:"
   ]
  },
  {
   "cell_type": "markdown",
   "id": "9434cd91-3fee-4f68-a462-94301544aea9",
   "metadata": {},
   "source": [
    "...\n",
    "\n",
    "remote: error: GH013: Repository rule violations found for refs/heads/main.\n",
    "\n",
    "remote: Review all repository rules at http://github.com/rbolzoni/DeckRepo/rules?ref=refs%2Fheads%2Fmain\n",
    "\n",
    "remote:\n",
    "\n",
    "remote: - Required status check \"Code_test / Explore-GitHub-Actions (push)\" is expected.\n",
    "\n",
    "remote:\n",
    "\n",
    "To github.com:rbolzoni/Deckmodule.git\n",
    "\n",
    " ! [remote rejected] main -> main (push declined due to repository rule violations)\n",
    " \n",
    "error: failed to push some refs to 'github.com:rbolzoni/Deckmodule.git'"
   ]
  },
  {
   "cell_type": "code",
   "execution_count": null,
   "id": "3c31333b-2a7b-4577-a398-87f6abc9c5a6",
   "metadata": {},
   "outputs": [],
   "source": []
  }
 ],
 "metadata": {
  "kernelspec": {
   "display_name": "Python 3 (ipykernel)",
   "language": "python",
   "name": "python3"
  },
  "language_info": {
   "codemirror_mode": {
    "name": "ipython",
    "version": 3
   },
   "file_extension": ".py",
   "mimetype": "text/x-python",
   "name": "python",
   "nbconvert_exporter": "python",
   "pygments_lexer": "ipython3",
   "version": "3.11.5"
  }
 },
 "nbformat": 4,
 "nbformat_minor": 5
}
