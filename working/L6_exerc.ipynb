{
 "cells": [
  {
   "cell_type": "markdown",
   "id": "7694dfaf-0f75-43d1-ba7d-13b3e6a370a8",
   "metadata": {},
   "source": [
    "## Q1: Your next research project."
   ]
  },
  {
   "cell_type": "markdown",
   "id": "97840ae2-4ae2-47ba-8325-e479914a287c",
   "metadata": {},
   "source": [
    "The repository \"ISM-Analysis\" can b found at https://github.com/rbolzoni/ISM-Analysis contaning the codes for image reconstraction of an ISM datasets. \n",
    "The code will be shortly update with ocrrections and new functions but the repository is meant for internal use to store the latest version of the code and check for bugs"
   ]
  },
  {
   "cell_type": "markdown",
   "id": "ef718a44-9cda-4382-80d0-f319c805277e",
   "metadata": {
    "tags": []
   },
   "source": [
    "## Q4: You're wrong\n",
    "\n",
    "Found few spelling mistakes and sent a pull request to correct them"
   ]
  },
  {
   "cell_type": "code",
   "execution_count": null,
   "id": "eacb798f-4ddc-42ea-bc32-968605b91d5c",
   "metadata": {},
   "outputs": [],
   "source": []
  }
 ],
 "metadata": {
  "kernelspec": {
   "display_name": "Python 3 (ipykernel)",
   "language": "python",
   "name": "python3"
  },
  "language_info": {
   "codemirror_mode": {
    "name": "ipython",
    "version": 3
   },
   "file_extension": ".py",
   "mimetype": "text/x-python",
   "name": "python",
   "nbconvert_exporter": "python",
   "pygments_lexer": "ipython3",
   "version": "3.11.5"
  }
 },
 "nbformat": 4,
 "nbformat_minor": 5
}
