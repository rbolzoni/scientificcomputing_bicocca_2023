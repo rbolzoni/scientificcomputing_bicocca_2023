{
 "cells": [
  {
   "cell_type": "markdown",
   "id": "f96d7b58-f6a3-4381-9ec1-4852bab16559",
   "metadata": {},
   "source": [
    "## Q2: Iterations"
   ]
  },
  {
   "cell_type": "markdown",
   "id": "06be6544-3b30-48f8-8f3b-67054c879f20",
   "metadata": {
    "tags": []
   },
   "source": [
    "### Part1"
   ]
  },
  {
   "cell_type": "markdown",
   "id": "3003b8c8-d050-470d-9dac-92bd8fe47ea8",
   "metadata": {},
   "source": [
    "To iterate over the tuples, where the _i_-th tuple contains the _i_-th elements of certain sequences, we can use `zip(*sequences)` function.\n",
    "\n",
    "We will iterate over two lists, `names` and `age`, and print out the resulting tuples.\n",
    "\n",
    "  * Start by initializing lists `names = [\"Mary\", \"John\", \"Sarah\"]` and `age = [21, 56, 98]`.\n",
    "  \n",
    "  * Iterate over the tuples containing a name and an age, the `zip(list1, list2)` function might be useful here.\n",
    "  \n",
    "  * Print out formatted strings of the type \"*NAME is AGE years old*\".\n",
    "  "
   ]
  },
  {
   "cell_type": "code",
   "execution_count": 1,
   "id": "2742ecd6-0e27-496b-a61f-a7a14597062d",
   "metadata": {
    "tags": []
   },
   "outputs": [
    {
     "name": "stdout",
     "output_type": "stream",
     "text": [
      "Mary is 21 years old\n",
      "John is 56 years old\n",
      "Sarah is 98 years old\n"
     ]
    }
   ],
   "source": [
    "names = [\"Mary\", \"John\", \"Sarah\"]\n",
    "age = [21, 56, 98]\n",
    "\n",
    "for h in zip(names,age):\n",
    "    print(str(h[0])+' is '+str(h[1])+' years old')"
   ]
  },
  {
   "cell_type": "markdown",
   "id": "2ddb8b45-2016-4a3a-9078-ffa86b341733",
   "metadata": {},
   "source": [
    "### Part2"
   ]
  },
  {
   "cell_type": "markdown",
   "id": "8b54a4e3-04d6-43f3-8604-dab016db4422",
   "metadata": {},
   "source": [
    "The function `enumerate(sequence)` returns tuples containing indices of objects in the sequence, and the objects. \n",
    "\n",
    "The `random` module provides tools for working with the random numbers. In particular, `random.randint(start, end)` generates a random number not smaller than `start`, and not bigger than `end`.\n",
    "\n",
    "  * Generate a list of 10 random numbers from 0 to 9.\n",
    "  \n",
    "  * Using the `enumerate(random_list)` function, iterate over the tuples of random numbers and their indices, and print out *\"Match: NUMBER and INDEX\"* if the random number and its index in the list match."
   ]
  },
  {
   "cell_type": "code",
   "execution_count": 5,
   "id": "d28609da-81ae-4d1e-859c-56b64ce182ce",
   "metadata": {
    "tags": []
   },
   "outputs": [
    {
     "name": "stdout",
     "output_type": "stream",
     "text": [
      "Match! Number 2.0 at index 2\n",
      "Match! Number 4.0 at index 4\n",
      "[1. 3. 2. 8. 4. 6. 2. 0. 3. 3.]\n"
     ]
    }
   ],
   "source": [
    "import random\n",
    "import numpy as np\n",
    "\n",
    "ran=np.zeros(10)\n",
    "for i in range(10):\n",
    "    ran[i]=random.randint(0, 9)\n",
    "\n",
    "for i,el in enumerate(ran):\n",
    "    if i==el:\n",
    "        print('Match! Number '+str(el)+' at index '+str(i))\n",
    "print(ran)"
   ]
  },
  {
   "cell_type": "markdown",
   "id": "62348a3d-e601-406c-a279-ccbb931c691a",
   "metadata": {},
   "source": [
    "## Q9: Poker odds"
   ]
  },
  {
   "cell_type": "markdown",
   "id": "35371625-52d8-4576-abe9-364624cd1d83",
   "metadata": {},
   "source": [
    "Use the deck of cards class from the notebook we worked through class to write a Monte Carlo code that plays a lot of hands of straight poker (like 100,000). Count how many of these hands has a particular poker hand (like 3-of-a-kind). The ratio of # of hands with 3-of-a-kind to total hands is an approximation to the odds of getting a 3-of-a-kind in poker."
   ]
  },
  {
   "cell_type": "code",
   "execution_count": 2,
   "id": "6c64096c-c94a-4bfc-bf0d-3090b47bd889",
   "metadata": {
    "tags": []
   },
   "outputs": [],
   "source": [
    "import random\n",
    "class Card:\n",
    "    \n",
    "    def __init__(self, suit=1, rank=2):\n",
    "        if suit < 1 or suit > 4:\n",
    "            print(\"invalid suit, setting to 1\")\n",
    "            suit = 1\n",
    "            \n",
    "        self.suit = suit\n",
    "        self.rank = rank\n",
    "        \n",
    "    def value(self):\n",
    "        \"\"\" we want things order primarily by rank then suit \"\"\"\n",
    "        return self.suit + (self.rank-1)*14\n",
    "    \n",
    "    # we include this to allow for comparisons with < and > between cards \n",
    "    def __lt__(self, other):\n",
    "        return self.value() < other.value()\n",
    "\n",
    "    def __eq__(self, other):\n",
    "        return self.rank == other.rank and self.suit == other.suit\n",
    "    \n",
    "    def __repr__(self):\n",
    "        return self.__str__()\n",
    "    \n",
    "    def __str__(self):\n",
    "        suits = [u\"\\u2660\",  # spade\n",
    "                 u\"\\u2665\",  # heart\n",
    "                 u\"\\u2666\",  # diamond\n",
    "                 u\"\\u2663\"]  # club\n",
    "        \n",
    "        r = str(self.rank)\n",
    "        if self.rank == 11:\n",
    "            r = \"J\"\n",
    "        elif self.rank == 12:\n",
    "            r = \"Q\"\n",
    "        elif self.rank == 13:\n",
    "            r = \"K\"\n",
    "        elif self.rank == 14:\n",
    "            r = \"A\"\n",
    "                \n",
    "        return r +':'+suits[self.suit-1]\n",
    "    \n",
    "class Deck:\n",
    "    \"\"\" the deck is a collection of cards \"\"\"\n",
    "\n",
    "    def __init__(self):\n",
    "\n",
    "        self.nsuits = 4\n",
    "        self.nranks = 13\n",
    "        self.minrank = 2\n",
    "        self.maxrank = self.minrank + self.nranks - 1\n",
    "\n",
    "        self.cards = []\n",
    "\n",
    "        for rank in range(self.minrank,self.maxrank+1):\n",
    "            for suit in range(1, self.nsuits+1):\n",
    "                self.cards.append(Card(rank=rank, suit=suit))\n",
    "\n",
    "    def shuffle(self):\n",
    "        random.shuffle(self.cards)\n",
    "\n",
    "    def get_cards(self, num=1):\n",
    "        hand = []\n",
    "        for n in range(num):\n",
    "            hand.append(self.cards.pop())\n",
    "\n",
    "        return hand\n",
    "    \n",
    "    def __str__(self):\n",
    "        string = \"\"\n",
    "        for c in self.cards:\n",
    "            string += str(c) + \" \"\n",
    "        return string"
   ]
  },
  {
   "cell_type": "code",
   "execution_count": 4,
   "id": "afb5850f-922a-4f24-bf49-975d4e367bc5",
   "metadata": {
    "tags": []
   },
   "outputs": [
    {
     "name": "stdout",
     "output_type": "stream",
     "text": [
      "probability of a 3-of-a-kind: 0.0209\n"
     ]
    }
   ],
   "source": [
    "#Assume three-of-a-kind to be three equal cards and two other cards of different rank\n",
    "\n",
    "n = 100000\n",
    "handsize= 5\n",
    "counts = 0\n",
    "\n",
    "for l in range(1,n):\n",
    "    mydeck = Deck()\n",
    "    mydeck.shuffle()\n",
    "    hand = mydeck.get_cards(handsize)\n",
    "    sort = sorted(hand)\n",
    "    for i in range(len(hand)-2):\n",
    "        if sort[i].rank==sort[i+1].rank==sort[i+2].rank: #find 3 cards with the same rank\n",
    "            if len(set([c.rank for c in hand]))==3:  #Must have three ranks in the whole hand\n",
    "                counts+=1\n",
    "                break\n",
    "print('probability of a 3-of-a-kind: ' +str(counts/n))"
   ]
  },
  {
   "cell_type": "code",
   "execution_count": null,
   "id": "51ba1ca8-a7e3-4e52-93da-5c88a353f755",
   "metadata": {},
   "outputs": [],
   "source": []
  }
 ],
 "metadata": {
  "kernelspec": {
   "display_name": "Python 3 (ipykernel)",
   "language": "python",
   "name": "python3"
  },
  "language_info": {
   "codemirror_mode": {
    "name": "ipython",
    "version": 3
   },
   "file_extension": ".py",
   "mimetype": "text/x-python",
   "name": "python",
   "nbconvert_exporter": "python",
   "pygments_lexer": "ipython3",
   "version": "3.12.4"
  }
 },
 "nbformat": 4,
 "nbformat_minor": 5
}
