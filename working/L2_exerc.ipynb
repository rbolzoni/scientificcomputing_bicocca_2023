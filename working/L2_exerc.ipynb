{
 "cells": [
  {
   "cell_type": "markdown",
   "id": "5226cd3a-c05d-4662-94ad-420a27336790",
   "metadata": {},
   "source": [
    "## Q2: Edges"
   ]
  },
  {
   "cell_type": "markdown",
   "id": "e205c5a7-3a91-4326-9e99-244d04be5076",
   "metadata": {},
   "source": [
    "Create a 2d array with `1` on the border and `0` on the inside, e.g., like:\n",
    "```\n",
    "1 1 1 1 1\n",
    "1 0 0 0 1\n",
    "1 0 0 0 1\n",
    "1 1 1 1 1\n",
    "```\n",
    "\n",
    "Do this using array slice notation to let it work for an arbitrary-sized array"
   ]
  },
  {
   "cell_type": "code",
   "execution_count": 4,
   "id": "91059488-78f6-4188-93c5-3e95a8c87f17",
   "metadata": {
    "tags": []
   },
   "outputs": [
    {
     "name": "stdout",
     "output_type": "stream",
     "text": [
      "[[1. 1. 1. 1. 1. 1. 1. 1. 1. 1.]\n",
      " [1. 0. 0. 0. 0. 0. 0. 0. 0. 1.]\n",
      " [1. 0. 0. 0. 0. 0. 0. 0. 0. 1.]\n",
      " [1. 0. 0. 0. 0. 0. 0. 0. 0. 1.]\n",
      " [1. 0. 0. 0. 0. 0. 0. 0. 0. 1.]\n",
      " [1. 1. 1. 1. 1. 1. 1. 1. 1. 1.]]\n"
     ]
    }
   ],
   "source": [
    "import numpy as np\n",
    "\n",
    "n=6  #number of rows\n",
    "m=10 #number of columns\n",
    "arr=np.zeros((n,m))\n",
    "\n",
    "arr[0,:]=arr[:,0]=arr[n-1,:]=arr[:,m-1]=1\n",
    "print(arr)"
   ]
  },
  {
   "cell_type": "markdown",
   "id": "8ae5e543-0da1-4a73-944b-0131756f7f3e",
   "metadata": {},
   "source": [
    "## Q3: Histrograms\n",
    "\n",
    "I use np.loadtxt to read the `sample.txt` file, and get its histogram with np.histogram printing the bin centers and their counts (the number of bins can be changed at will). The data data is also plotted to check the result."
   ]
  },
  {
   "cell_type": "code",
   "execution_count": 4,
   "id": "d1d20d5b-a63b-464e-ab21-115593afca42",
   "metadata": {
    "tags": []
   },
   "outputs": [
    {
     "name": "stdout",
     "output_type": "stream",
     "text": [
      "bin  1  centered on  -27.129  has counts  3\n",
      "bin  2  centered on  -20.211  has counts  4\n",
      "bin  3  centered on  -13.293  has counts  9\n",
      "bin  4  centered on  -6.374  has counts  22\n",
      "bin  5  centered on  0.544  has counts  22\n",
      "bin  6  centered on  7.462  has counts  22\n",
      "bin  7  centered on  14.381  has counts  9\n",
      "bin  8  centered on  21.299  has counts  7\n",
      "bin  9  centered on  28.217  has counts  1\n",
      "bin  10  centered on  35.136  has counts  1\n"
     ]
    },
    {
     "data": {
      "text/plain": [
       "(array([ 3.,  4.,  9., 22., 22., 22.,  9.,  7.,  1.,  1.]),\n",
       " array([-30.58842789, -23.67009726, -16.75176662,  -9.83343599,\n",
       "         -2.91510536,   4.00322527,  10.9215559 ,  17.83988653,\n",
       "         24.75821717,  31.6765478 ,  38.59487843]),\n",
       " <BarContainer object of 10 artists>)"
      ]
     },
     "execution_count": 4,
     "metadata": {},
     "output_type": "execute_result"
    },
    {
     "data": {
      "image/png": "[encoded data removed]",
      "text/plain": [
       "<Figure size 640x480 with 1 Axes>"
      ]
     },
     "metadata": {},
     "output_type": "display_data"
    }
   ],
   "source": [
    "import numpy as np\n",
    "import matplotlib.pyplot as plt\n",
    "\n",
    "n=10 #number of bins\n",
    "\n",
    "data= np.loadtxt('sample.txt')\n",
    "hist,edge=np.histogram(data[:,1],n)\n",
    "for i in range (0,n):\n",
    "    cent = (edge[i]+edge[i+1])/2\n",
    "    print('bin ', (i+1), ' centered on ', round(cent,3), ' has counts ',hist[i])\n",
    "plt.hist(data[:,1], bins=n, ec='black')"
   ]
  },
  {
   "cell_type": "code",
   "execution_count": null,
   "id": "a56a4323-2e9e-4f6d-ae48-f4ffc94ac2ec",
   "metadata": {},
   "outputs": [],
   "source": []
  }
 ],
 "metadata": {
  "kernelspec": {
   "display_name": "Python 3 (ipykernel)",
   "language": "python",
   "name": "python3"
  },
  "language_info": {
   "codemirror_mode": {
    "name": "ipython",
    "version": 3
   },
   "file_extension": ".py",
   "mimetype": "text/x-python",
   "name": "python",
   "nbconvert_exporter": "python",
   "pygments_lexer": "ipython3",
   "version": "3.11.5"
  }
 },
 "nbformat": 4,
 "nbformat_minor": 5
}
